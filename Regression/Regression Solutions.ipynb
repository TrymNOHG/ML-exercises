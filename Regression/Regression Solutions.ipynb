{
 "cells": [
  {
   "cell_type": "markdown",
   "id": "1177e4ce",
   "metadata": {},
   "source": [
    "# Machine Learning IDATT2502 - Regression Exercises\n",
    "\n",
    "These exercises will apply regression logic on a dataset containing observations on newborn babies.\n",
    "\n",
    "## Linear Regression in 2 Dimensions\n",
    "\n",
    "In this first exercise, I will be creating a linear model that predicts the weight based on length. Observations come from the length_weight.csv.\n",
    "\n",
    "For a linear regression in 2 dimensions, the linear predictor function is utilized: `f(x) = xW + b`\n",
    "where x is the input observation and W and b are model parameters.\n",
    "\n",
    "The first thing to do in order to properly test the accuracy of the model is to split the data set. I will be splitting the data set into 80% training and 20% testing.\n"
   ]
  },
  {
   "cell_type": "code",
   "execution_count": 1,
   "id": "19073289",
   "metadata": {},
   "outputs": [
    {
     "name": "stdout",
     "output_type": "stream",
     "text": [
      "Intel MKL WARNING: Support of Intel(R) Streaming SIMD Extensions 4.2 (Intel(R) SSE4.2) enabled only processors has been deprecated. Intel oneAPI Math Kernel Library 2025.0 will require Intel(R) Advanced Vector Extensions (Intel(R) AVX) instructions.\n",
      "Intel MKL WARNING: Support of Intel(R) Streaming SIMD Extensions 4.2 (Intel(R) SSE4.2) enabled only processors has been deprecated. Intel oneAPI Math Kernel Library 2025.0 will require Intel(R) Advanced Vector Extensions (Intel(R) AVX) instructions.\n",
      "     # length     weight\n",
      "574      61.8   7.529330\n",
      "394      94.2  14.982708\n",
      "2        72.5   8.317462\n",
      "46       61.2   7.341092\n",
      "743      98.7  13.649048\n",
      "..        ...        ...\n",
      "54       92.1  13.893762\n",
      "821      63.5   6.907308\n",
      "995      72.2   9.055175\n",
      "644      59.4   6.223792\n",
      "535      83.1  10.663563\n",
      "\n",
      "[800 rows x 2 columns]\n",
      "     # length     weight\n",
      "574      61.8   7.529330\n",
      "394      94.2  14.982708\n",
      "2        72.5   8.317462\n",
      "46       61.2   7.341092\n",
      "743      98.7  13.649048\n",
      "..        ...        ...\n",
      "54       92.1  13.893762\n",
      "821      63.5   6.907308\n",
      "995      72.2   9.055175\n",
      "644      59.4   6.223792\n",
      "535      83.1  10.663563\n",
      "\n",
      "[800 rows x 2 columns]\n",
      "     # length     weight\n",
      "169     100.2  14.564196\n",
      "966      49.7   3.652378\n",
      "348      68.2   6.989416\n",
      "604      52.7   3.418184\n",
      "529      51.8   3.811098\n",
      "..        ...        ...\n",
      "727      95.0  14.225360\n",
      "740      52.1   3.524387\n",
      "938     108.3  17.767238\n",
      "490      52.0   3.292219\n",
      "175      60.1   5.742444\n",
      "\n",
      "[200 rows x 2 columns]\n"
     ]
    }
   ],
   "source": [
    "import torch\n",
    "import matplotlib.pyplot as plt\n",
    "from sklearn.model_selection import train_test_split\n",
    "from pandas import read_csv\n",
    "\n",
    "# Read file as dataframe\n",
    "df = read_csv(\"length_weight.csv\")\n",
    "\n",
    "# Split dataframe into 80% training and 20% test.\n",
    "train_set, test_set = train_test_split(df, test_size=0.2)\n",
    "\n",
    "print(train_set)\n",
    "# Independent variable is length\n",
    "length_train = torch.tensor(train_set['# length'].values, dtype=torch.float64).reshape(-1, 1)\n",
    "length_test = torch.tensor(test_set['# length'].values, dtype=torch.float64).reshape(-1, 1)\n",
    "\n",
    "# Dependent variable is weight \n",
    "weight_train = torch.tensor(train_set['weight'].values, dtype=torch.float64).reshape(-1, 1)\n",
    "weight_test = torch.tensor(test_set['weight'].values, dtype=torch.float64).reshape(-1, 1)\n",
    "\n",
    "print(train_set)\n",
    "print(test_set)"
   ]
  },
  {
   "cell_type": "markdown",
   "id": "c139d2d5",
   "metadata": {},
   "source": [
    "Next, the object for the model needs to be created. The model object will have a predictor method (the linear predictor function) and a loss fuction (MSE)."
   ]
  },
  {
   "cell_type": "code",
   "execution_count": 2,
   "id": "52146bc3",
   "metadata": {},
   "outputs": [],
   "source": [
    "class LinearRegressionModel:\n",
    "    def __init__(self):\n",
    "        self.W = torch.tensor([[0.0]], dtype=torch.float64, requires_grad=True)\n",
    "        self.b = torch.tensor([[0.0]], dtype=torch.float64, requires_grad=True)\n",
    "    \n",
    "    # Predictor\n",
    "    def f(self, x):\n",
    "        return x @ self.W + self.b\n",
    "    \n",
    "    # Uses Mean Squared Error\n",
    "    def loss(self, x, y):\n",
    "        return torch.mean(torch.square(self.f(x) - y))\n",
    "    \n",
    "model = LinearRegressionModel()"
   ]
  },
  {
   "cell_type": "markdown",
   "id": "28889e2c",
   "metadata": {},
   "source": [
    "The model parameters need to be optimized and this can be done through minimizing the loss. Specifically in this exercise, I will be using PyTorch's Stochastic Gradient Descent (SGD); however, for linear regressions, derivation of the function and finding the minimum (f'(x) = 0) would result in the global minimum."
   ]
  },
  {
   "cell_type": "code",
   "execution_count": null,
   "id": "b894f1e2",
   "metadata": {},
   "outputs": [],
   "source": [
    "# Optimize the model parameters in order to minimize the loss. This is done using Py\n",
    "optimizer = torch.optim.SGD([model.W, model.b], 0.00001)\n",
    "\n",
    "# Run 10000 optimization iterations.\n",
    "for epoch in range(100000):\n",
    "    model.loss(length_train, weight_train).backward()  # Compute loss gradients (Back Propagation)\n",
    "    optimizer.step()  # Perform optimization by adjusting W and b\n",
    "\n",
    "    optimizer.zero_grad()  # Clear gradients for next step\n",
    "\n",
    "\n",
    "print(\"W = %s, b = %s, loss = %s\" % (model.W, model.b, model.loss(length_train, weight_train)))"
   ]
  },
  {
   "cell_type": "markdown",
   "id": "8b0db127",
   "metadata": {},
   "source": [
    "### Visualization of model"
   ]
  },
  {
   "cell_type": "code",
   "execution_count": null,
   "id": "02143b5f",
   "metadata": {},
   "outputs": [],
   "source": [
    "plt.plot(x_train, y_train, 'o')\n",
    "\n",
    "# Line plot of model\n",
    "plt.plot(length_train.detach().numpy(), model.f(length_train).detach().numpy(), label=\"$xW + b$\")  \n",
    "\n",
    "plt.xlabel('Length of newborn (cm)')\n",
    "plt.ylabel('Weight of newborn (kg)')\n",
    "plt.title('Linear Regression to predict Weight of Newborn given Length')\n",
    "plt.legend()\n",
    "plt.show()"
   ]
  },
  {
   "cell_type": "markdown",
   "id": "79e75114",
   "metadata": {},
   "source": [
    "### Testing accuracy of Model\n",
    "\n",
    "Using the test data separated at the start, a final evaluation of the accuracy of the model could be determined. Here, the MAE, MSE, R-Squared, and RMSE can be calculated. Ultimately, the MAE of the model can be seen through the loss function."
   ]
  },
  {
   "cell_type": "markdown",
   "id": "8b84fc69",
   "metadata": {},
   "source": [
    "## Linear Regression in 3 Dimensions\n",
    "\n",
    "In this exercise, I will be creating a linear model that predicts the age (in days) out from the length and weight of the given observations in day_length_weight.csv.\n",
    "\n",
    "Again, the first thing to do is get the datasets ready to be worked on. This is done by separating the dataset into training and testing, as well as separating the independent and dependent variables."
   ]
  },
  {
   "cell_type": "code",
   "execution_count": null,
   "id": "c410cb59",
   "metadata": {},
   "outputs": [],
   "source": [
    "import torch\n",
    "import matplotlib.pyplot as plt\n",
    "from sklearn.model_selection import train_test_split\n",
    "from pandas import read_csv\n",
    "\n",
    "# Read file as dataframe\n",
    "df = read_csv(\"day_length_weight.csv\")\n",
    "\n",
    "# Split dataframe into 80% training and 20% test.\n",
    "train_set, test_set = train_test_split(df, test_size=0.2)\n",
    "\n",
    "# Independent variables are length and weight\n",
    "length_train = torch.tensor(train_set['length'].values, dtype=torch.float64).reshape(-1, 1)\n",
    "length_test = torch.tensor(test_set['length'].values, dtype=torch.float64).reshape(-1, 1)\n",
    "\n",
    "weight_train = torch.tensor(train_set['weight'].values, dtype=torch.float64).reshape(-1, 1)\n",
    "weight_test = torch.tensor(test_set['weight'].values, dtype=torch.float64).reshape(-1, 1)\n",
    "\n",
    "indep_train = torch.cat((length_train, weight_train), dim=1)\n",
    "indep_test = torch.cat((length_test, weight_test), dim=1)\n",
    "\n",
    "\n",
    "# Dependent variable is age in days \n",
    "age_train = torch.tensor(train_set['# day'].values, dtype=torch.float64).reshape(-1, 1)\n",
    "age_test = torch.tensor(test_set['# day'].values, dtype=torch.float64).reshape(-1, 1)\n",
    "\n",
    "print(indep_train)\n",
    "\n",
    "print(train_set)\n",
    "print(test_set)"
   ]
  },
  {
   "cell_type": "markdown",
   "id": "c5c1cff9",
   "metadata": {},
   "source": [
    "The linear model for a problem with an extra explanatory variable is a little different."
   ]
  },
  {
   "cell_type": "code",
   "execution_count": null,
   "id": "56ac4454",
   "metadata": {},
   "outputs": [],
   "source": [
    "class Linear3DRegressionModel:\n",
    "    def __init__(self):\n",
    "        self.W = torch.tensor([[0.0], [0.0]], dtype=torch.float64, requires_grad=True)\n",
    "        self.b = torch.tensor([[0.0]], dtype=torch.float64, requires_grad=True)\n",
    "    \n",
    "    # Predictor\n",
    "    def f(self, x):\n",
    "        return x @ self.W + self.b\n",
    "    \n",
    "    # Uses Mean Squared Error\n",
    "    def loss(self, x, y):\n",
    "        return torch.mean(torch.square(self.f(x) - y))\n",
    "\n",
    "model = Linear3DRegressionModel()"
   ]
  },
  {
   "cell_type": "code",
   "execution_count": null,
   "id": "056c9136",
   "metadata": {},
   "outputs": [],
   "source": [
    "# Optimize the model parameters in order to minimize the loss. This is done using Py\n",
    "optimizer = torch.optim.SGD([model.W, model.b], 0.00001)\n",
    "\n",
    "# Run 10000 optimization iterations.\n",
    "for epoch in range(100000):\n",
    "    model.loss(indep_train, age_train).backward()  # Compute loss gradients (Back Propagation)\n",
    "    optimizer.step()  # Perform optimization by adjusting W and b,\n",
    "\n",
    "    optimizer.zero_grad()  # Clear gradients for next step\n",
    "\n",
    "\n",
    "print(\"W = %s, b = %s, loss = %s\" % (model.W, model.b, model.loss(indep_train, age_train)))"
   ]
  },
  {
   "cell_type": "markdown",
   "id": "09728c23",
   "metadata": {},
   "source": [
    "### Visualization of Model"
   ]
  },
  {
   "cell_type": "code",
   "execution_count": null,
   "id": "43343183",
   "metadata": {},
   "outputs": [],
   "source": [
    "import matplotlib\n",
    "from matplotlib import cm\n",
    "from mpl_toolkits.mplot3d import axes3d, art3d\n",
    "import numpy as np\n",
    "\n",
    "matplotlib.rcParams.update({'font.size': 11})\n",
    "\n",
    "\n",
    "fig = plt.figure('3D Linear Regression of Age of a Newborn based on Length and Weight')\n",
    "\n",
    "ax = fig.add_subplot(111, projection='3d')  # 3D plots require a subplot with 3D projection enabled\n",
    "\n",
    "\n",
    "ax.plot(length_train[:].squeeze(), weight_train[:].squeeze(), age_train[:].squeeze(), 'o', label='$(x_1^{(i)},y^{(i)},z^{(i)})$', color='blue')\n",
    "\n",
    "# Plot the original points \n",
    "#ax.plot(x_train.detach().numpy(), y_train.detach().numpy(), z_train.detach().numpy(), 'o')\n",
    "\n",
    "# Plot the model\n",
    "plot1_f = ax.plot(np.array(length_train), np.array(weight_train), np.array(model.f(indep_train).detach().numpy()), 'x', color='green', label='$f(\\\\mathbf{x}) = \\\\mathbf{xW}+b$')\n",
    "plot1_info = fig.text(0.01, 0.03, '')\n",
    "\n",
    "\n",
    "ax.set_xlabel('Length (cm)')\n",
    "ax.set_ylabel('Weight (kg)')\n",
    "ax.set_zlabel('Age (in days)')\n",
    "plt.legend()\n",
    "fig.tight_layout()\n",
    "plt.show()"
   ]
  },
  {
   "cell_type": "markdown",
   "id": "54d8bb7b",
   "metadata": {},
   "source": [
    "## Non-Linear Regression in 2 Dimensions\n",
    "\n",
    "In this exercise, I will create a non-linear model that predicts the circumference of the head based on the age in days from the day_head_circumference.csv observations.\n"
   ]
  },
  {
   "cell_type": "code",
   "execution_count": null,
   "id": "c3e767fb",
   "metadata": {},
   "outputs": [],
   "source": [
    "# Read file as dataframe\n",
    "df = read_csv(\"day_head_circumference.csv\")\n",
    "\n",
    "# Split dataframe into 80% training and 20% test.\n",
    "train_set, test_set = train_test_split(df, test_size=0.2)\n",
    "\n",
    "# Independent variable is length\n",
    "x_train = torch.tensor(train_set['# day'].values, dtype=torch.float64).reshape(-1, 1)\n",
    "x_test = torch.tensor(test_set['# day'].values, dtype=torch.float64).reshape(-1, 1)\n",
    "\n",
    "# Dependent variable is weight \n",
    "y_train = torch.tensor(train_set['head circumference'].values, dtype=torch.float64).reshape(-1, 1)\n",
    "y_test = torch.tensor(test_set['head circumference'].values, dtype=torch.float64).reshape(-1, 1)\n",
    "\n",
    "print(train_set)\n",
    "print(test_set)"
   ]
  },
  {
   "cell_type": "markdown",
   "id": "58a041f8",
   "metadata": {},
   "source": [
    "Since the model is non-linear, the class needs to include a different predictor function."
   ]
  },
  {
   "cell_type": "code",
   "execution_count": null,
   "id": "e3aa880a",
   "metadata": {},
   "outputs": [],
   "source": [
    "class NonLinearRegressionModel:\n",
    "    def __init__(self):\n",
    "        self.W = torch.tensor([[0.0]], dtype=torch.float64, requires_grad=True)\n",
    "        self.b = torch.tensor([[0.0]], dtype=torch.float64, requires_grad=True)\n",
    "    \n",
    "    def sigmoid(self, z):\n",
    "        return 1/(1+np.e**(-z))\n",
    "    \n",
    "    # Predictor\n",
    "    def f(self, x):\n",
    "        return 20 * self.sigmoid(x @ self.W + self.b) + 31\n",
    "   \n",
    "    # Uses Mean Squared Error\n",
    "    def loss(self, x, y):\n",
    "        return torch.mean(torch.square(self.f(x) - y))\n",
    "    \n",
    "model = NonLinearRegressionModel()"
   ]
  },
  {
   "cell_type": "code",
   "execution_count": null,
   "id": "94ee6727",
   "metadata": {},
   "outputs": [],
   "source": [
    "# Optimize the model parameters in order to minimize the loss. This is done using Py\n",
    "optimizer = torch.optim.SGD([model.W, model.b], 0.000001)\n",
    "\n",
    "# Run 10000 optimization iterations.\n",
    "for epoch in range(10000):\n",
    "    model.loss(x_train, y_train).backward()  # Compute loss gradients (Back Propagation)\n",
    "    optimizer.step()  # Perform optimization by adjusting W and b,\n",
    "\n",
    "    optimizer.zero_grad()  # Clear gradients for next step\n",
    "\n",
    "\n",
    "print(\"W = %s, b = %s, loss = %s\" % (model.W, model.b, model.loss(x_train, y_train)))"
   ]
  },
  {
   "cell_type": "markdown",
   "id": "d905ffa6",
   "metadata": {},
   "source": [
    "### Visualization of the model"
   ]
  },
  {
   "cell_type": "code",
   "execution_count": null,
   "id": "8aa9f3e2",
   "metadata": {},
   "outputs": [],
   "source": [
    "plt.plot(x_train, y_train, 'o')\n",
    "\n",
    "# Line plot of model\n",
    "x = torch.arange(torch.min(x_train), torch.max(x_train), 1.0, dtype=torch.float64).reshape(-1, 1)\n",
    "plt.plot(x, model.f(x).detach().numpy(), label=\"$20σ(xW + b) + 31$\")\n",
    "\n",
    "plt.xlabel('Age (in days)')\n",
    "plt.ylabel('Head Circumference (cm)')\n",
    "plt.title('Non-Linear Regression to predict Head Cirumference of Newborn given Age')\n",
    "plt.legend()\n",
    "plt.show()"
   ]
  },
  {
   "cell_type": "code",
   "execution_count": null,
   "id": "7665c9a0",
   "metadata": {},
   "outputs": [],
   "source": []
  }
 ],
 "metadata": {
  "kernelspec": {
   "display_name": "Python 3 (ipykernel)",
   "language": "python",
   "name": "python3"
  },
  "language_info": {
   "codemirror_mode": {
    "name": "ipython",
    "version": 3
   },
   "file_extension": ".py",
   "mimetype": "text/x-python",
   "name": "python",
   "nbconvert_exporter": "python",
   "pygments_lexer": "ipython3",
   "version": "3.8.17"
  }
 },
 "nbformat": 4,
 "nbformat_minor": 5
}
